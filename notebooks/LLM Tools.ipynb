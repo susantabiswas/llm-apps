{
 "cells": [
  {
   "cell_type": "code",
   "execution_count": 1,
   "id": "1728ba92-1fb3-4f76-a18d-9985f26e466a",
   "metadata": {},
   "outputs": [],
   "source": [
    "from openai import AzureOpenAI\n",
    "import anthropic\n",
    "import ollama\n",
    "import requests\n",
    "import json\n",
    "from dotenv import load_dotenv\n",
    "import os\n",
    "from IPython.display import display, update_display, Markdown\n",
    "from bs4 import BeautifulSoup\n",
    "import re"
   ]
  },
  {
   "cell_type": "code",
   "execution_count": 4,
   "id": "f01fb1cc-774a-4743-af31-afea345e8e93",
   "metadata": {},
   "outputs": [],
   "source": [
    "load_dotenv(override=True)\n",
    "\n",
    "azure_ai_foundary_api_key = os.getenv(\"AZURE_AI_FOUNDARY_API_KEY\")\n",
    "azure_oai_endpoint = os.getenv(\"AZURE_OAI_ENDPOINT\")"
   ]
  },
  {
   "cell_type": "code",
   "execution_count": 6,
   "id": "b768f99b-f913-477e-b9fc-7a064cf576af",
   "metadata": {},
   "outputs": [],
   "source": [
    "azure_ai_foundary = AzureOpenAI(\n",
    "    azure_endpoint = azure_oai_endpoint,\n",
    "    api_key = azure_ai_foundary_api_key,\n",
    "    api_version = \"2025-01-01-preview\"\n",
    ")\n"
   ]
  },
  {
   "cell_type": "markdown",
   "id": "ab0a68c5-aab0-4361-923b-675534348e87",
   "metadata": {},
   "source": [
    "## Tools\n",
    "Tools allows the LLM to execute actions. Eg if there is a calculator tool then the LLM can use that whenever the user asks for a calculation."
   ]
  },
  {
   "cell_type": "code",
   "execution_count": 24,
   "id": "fdb43970-b705-4368-a149-7398eb4d7f11",
   "metadata": {},
   "outputs": [],
   "source": [
    "product_prices = {'keyboard': 100, 'mouse': 40, 'motherboard': 143}\n",
    "\n",
    "def get_product_price(product):\n",
    "    \"\"\"Returns the price of a computer part\"\"\"\n",
    "    print(f'Price requested for {product}')\n",
    "    return product_prices.get(product.lower(), 'Unknown')\n",
    "\n",
    "\n",
    "# define the tool metadata for the LLM\n",
    "# The structure follows the structure that open ai expects\n",
    "computer_price_function = {\n",
    "    \"name\": \"get_product_price\",\n",
    "    \"description\": \"Returns the price of a computer part. Use this whenever you need to know the price of a computer part. Example: If a customer asks for the price of a mouse, use his function.\",\n",
    "    \"parameters\": {\n",
    "        \"type\": \"object\",\n",
    "        \"properties\": {\n",
    "            \"product\": {\n",
    "                \"type\": \"string\",\n",
    "                \"description\": \"The name of the computer part that customer wants to buy\"\n",
    "            }\n",
    "        },\n",
    "        \"required\": [\"product\"],\n",
    "        \"additionalProperties\": False\n",
    "    }\n",
    "}\n",
    "\n",
    "tools = [{\"type\": \"function\", \"function\": computer_price_function}]\n",
    "\n",
    "# This will be used to handle the tool request from open ai LLM\n",
    "def tool_handler(message):\n",
    "    # extract the func related args \n",
    "    tool_call = message.tool_calls[0]\n",
    "    args = json.loads(tool_call.function.arguments)\n",
    "    computer_part = args.get('product')\n",
    "\n",
    "    print(f'Tool handler ........... {computer_part}')\n",
    "    print(message)\n",
    "    # use the func\n",
    "    price = get_product_price(computer_part)\n",
    "\n",
    "    response = {\n",
    "        \"role\": \"tool\",\n",
    "        \"content\": json.dumps({\"product\": computer_part, \"price\": price}),\n",
    "        \"tool_call_id\": tool_call.id\n",
    "    }\n",
    "\n",
    "    return response"
   ]
  },
  {
   "cell_type": "code",
   "execution_count": 28,
   "id": "4fc2228f-cb9d-47dd-acbf-9f972b875861",
   "metadata": {},
   "outputs": [],
   "source": [
    "def chat(msg, history):\n",
    "    system_message = \"You are an expert assistant who specializes in computer related stuff. \\\n",
    "    You help the user precise one line responses. \\\n",
    "    If rely on functions to get the accuracy and in case you dont know about something, clearly mention that.\"\n",
    "\n",
    "    model = \"gpt-4o-mini\"\n",
    "    \n",
    "    messages = [{\"role\": \"system\", \"content\": system_message}] + history + [{\"role\": \"user\", \"content\": msg}]\n",
    "\n",
    "    # NOTE - pass the tools object\n",
    "    response = azure_ai_foundary.chat.completions.create(model=model, messages=messages, tools=tools)\n",
    "    \n",
    "    # whenever the llm wants to use a tool, it will have that as the finish_reason\n",
    "    if response.choices[0].finish_reason == \"tool_calls\":\n",
    "        message = response.choices[0].message\n",
    "        tool_response = tool_handler(message)\n",
    "\n",
    "        # messages + [Received LLM tool call msg] + [our tool handler response]\n",
    "        messages.append(message)\n",
    "        messages.append(tool_response)\n",
    "\n",
    "        response = azure_ai_foundary.chat.completions.create(model=model, messages=messages)\n",
    "\n",
    "    return response.choices[0].message.content"
   ]
  },
  {
   "cell_type": "code",
   "execution_count": 20,
   "id": "f62b33de-dbba-4d80-880d-3e54b165d04f",
   "metadata": {},
   "outputs": [],
   "source": [
    "import gradio as gr"
   ]
  },
  {
   "cell_type": "code",
   "execution_count": 29,
   "id": "4b065c6d-38f7-4b5a-92cd-cc46381870a2",
   "metadata": {},
   "outputs": [
    {
     "name": "stdout",
     "output_type": "stream",
     "text": [
      "* Running on local URL:  http://127.0.0.1:7894\n",
      "\n",
      "To create a public link, set `share=True` in `launch()`.\n"
     ]
    },
    {
     "data": {
      "text/html": [
       "<div><iframe src=\"http://127.0.0.1:7894/\" width=\"100%\" height=\"500\" allow=\"autoplay; camera; microphone; clipboard-read; clipboard-write;\" frameborder=\"0\" allowfullscreen></iframe></div>"
      ],
      "text/plain": [
       "<IPython.core.display.HTML object>"
      ]
     },
     "metadata": {},
     "output_type": "display_data"
    },
    {
     "data": {
      "text/plain": []
     },
     "execution_count": 29,
     "metadata": {},
     "output_type": "execute_result"
    },
    {
     "name": "stdout",
     "output_type": "stream",
     "text": [
      "Tool handler ........... mouse\n",
      "ChatCompletionMessage(content=None, refusal=None, role='assistant', annotations=None, audio=None, function_call=None, tool_calls=[ChatCompletionMessageToolCall(id='call_ms6Czq2E2epn4Y4mrwX3q4Kf', function=Function(arguments='{\"product\":\"mouse\"}', name='get_product_price'), type='function')])\n",
      "Price requested for mouse\n",
      "Tool handler ........... inverter\n",
      "ChatCompletionMessage(content=None, refusal=None, role='assistant', annotations=None, audio=None, function_call=None, tool_calls=[ChatCompletionMessageToolCall(id='call_8ve4aBLzRiR42gSyZe360jQF', function=Function(arguments='{\"product\":\"inverter\"}', name='get_product_price'), type='function')])\n",
      "Price requested for inverter\n",
      "Tool handler ........... keyboard\n",
      "ChatCompletionMessage(content=None, refusal=None, role='assistant', annotations=None, audio=None, function_call=None, tool_calls=[ChatCompletionMessageToolCall(id='call_sfqbAQuYlKpk8dRjHbGCavHJ', function=Function(arguments='{\"product\":\"keyboard\"}', name='get_product_price'), type='function')])\n",
      "Price requested for keyboard\n"
     ]
    }
   ],
   "source": [
    "gr.ChatInterface(\n",
    "    fn=chat,\n",
    "    type=\"messages\"\n",
    ").launch()"
   ]
  },
  {
   "cell_type": "code",
   "execution_count": null,
   "id": "d0fd85db-26f2-4842-b14c-cd16a48f4532",
   "metadata": {},
   "outputs": [],
   "source": []
  }
 ],
 "metadata": {
  "kernelspec": {
   "display_name": "Python 3 (ipykernel)",
   "language": "python",
   "name": "python3"
  },
  "language_info": {
   "codemirror_mode": {
    "name": "ipython",
    "version": 3
   },
   "file_extension": ".py",
   "mimetype": "text/x-python",
   "name": "python",
   "nbconvert_exporter": "python",
   "pygments_lexer": "ipython3",
   "version": "3.11.9"
  }
 },
 "nbformat": 4,
 "nbformat_minor": 5
}
