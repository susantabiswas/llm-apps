{
 "cells": [
  {
   "cell_type": "code",
   "execution_count": 1,
   "id": "1728ba92-1fb3-4f76-a18d-9985f26e466a",
   "metadata": {},
   "outputs": [],
   "source": [
    "from openai import AzureOpenAI\n",
    "import anthropic\n",
    "import ollama\n",
    "import requests\n",
    "import json\n",
    "from dotenv import load_dotenv\n",
    "import os\n",
    "from IPython.display import display, update_display, Markdown\n",
    "from bs4 import BeautifulSoup\n",
    "import re"
   ]
  },
  {
   "cell_type": "code",
   "execution_count": 2,
   "id": "f01fb1cc-774a-4743-af31-afea345e8e93",
   "metadata": {},
   "outputs": [],
   "source": [
    "load_dotenv(override=True)\n",
    "\n",
    "azure_ai_foundary_api_key = os.getenv(\"AZURE_AI_FOUNDARY_API_KEY\")\n",
    "azure_oai_endpoint = os.getenv(\"AZURE_OAI_ENDPOINT\")\n",
    "\n",
    "azure_embed_api_key = os.getenv(\"AZURE_EMBED_KEY\")\n",
    "azure_embed_endpoint = os.getenv(\"AZURE_EMBED_ENDPOINT\")\n",
    "\n",
    "azure_audio_api_key = os.getenv(\"AZURE_AUDIO_API_KEY\")\n",
    "azure_audio_endpoint = os.getenv(\"AZURE_AUDIO_ENDPOINT\")"
   ]
  },
  {
   "cell_type": "code",
   "execution_count": 3,
   "id": "b768f99b-f913-477e-b9fc-7a064cf576af",
   "metadata": {},
   "outputs": [],
   "source": [
    "azure_ai_foundary = AzureOpenAI(\n",
    "    azure_endpoint = azure_oai_endpoint,\n",
    "    api_key = azure_ai_foundary_api_key,\n",
    "    api_version = \"2025-01-01-preview\"\n",
    ")\n"
   ]
  },
  {
   "cell_type": "markdown",
   "id": "04599a0e-8be1-42e3-be9f-d8f77a528e3e",
   "metadata": {},
   "source": [
    "## Langchain RAG"
   ]
  },
  {
   "cell_type": "code",
   "execution_count": 17,
   "id": "ded2a1ea-d217-4b8e-8ca2-bb52ad9df903",
   "metadata": {},
   "outputs": [],
   "source": [
    "import numpy as np\n",
    "import glob\n",
    "\n",
    "from langchain.document_loaders import DirectoryLoader, TextLoader\n",
    "from langchain.text_splitter import CharacterTextSplitter\n",
    "from langchain.schema import Document\n",
    "\n",
    "# vector embeddings for vector db\n",
    "from langchain_chroma import Chroma\n",
    "from langchain_azure_ai.chat_models import AzureAIChatCompletionsModel\n",
    "from langchain_openai import AzureOpenAIEmbeddings, AzureChatOpenAI\n",
    "\n",
    "from sklearn.manifold import TSNE\n",
    "import matplotlib.pyplot as plt\n",
    "import plotly.graph_objects as go\n",
    "\n",
    "from langchain.memory import ConversationBufferMemory\n",
    "from langchain.chains import ConversationalRetrievalChain\n",
    "from langchain.embeddings import HuggingFaceEmbeddings"
   ]
  },
  {
   "cell_type": "markdown",
   "id": "17a7d284-fb36-49ad-be1e-3b3deadfa3be",
   "metadata": {},
   "source": [
    "### Data loading\n",
    "Load all the documents which can be vectorized"
   ]
  },
  {
   "cell_type": "code",
   "execution_count": 4,
   "id": "767fbef6-9105-4ce2-909d-0356bcd1f6ac",
   "metadata": {},
   "outputs": [
    {
     "name": "stdout",
     "output_type": "stream",
     "text": [
      "Folder data\\business, doc_type: business\n",
      "Found 5 docs of doc_type: business\n",
      "Folder data\\developers, doc_type: developers\n",
      "Found 4 docs of doc_type: developers\n",
      "Folder data\\projects, doc_type: projects\n",
      "Found 5 docs of doc_type: projects\n",
      "Total docs: 14\n"
     ]
    }
   ],
   "source": [
    "data_path = os.path.join('data', '*')\n",
    "\n",
    "text_loader_kwargs = {'encoding': 'utf-8'}\n",
    "\n",
    "documents = []\n",
    "folders = glob.glob(data_path)\n",
    "\n",
    "for folder in folders:\n",
    "    doc_type = os.path.basename(folder)\n",
    "\n",
    "    print(f'Folder {folder}, doc_type: {doc_type}')\n",
    "    loader = DirectoryLoader(folder,\n",
    "                glob=\"**/*.md\", \n",
    "                loader_cls=TextLoader,\n",
    "                loader_kwargs=text_loader_kwargs)\n",
    "\n",
    "    docs = loader.load()\n",
    "    print(f'Found {len(docs)} docs of doc_type: {doc_type}') \n",
    "    for doc in docs:\n",
    "        doc.metadata['doc_type'] = doc_type\n",
    "        documents.append(doc)\n",
    "\n",
    "print(f'Total docs: {len(documents)}')"
   ]
  },
  {
   "cell_type": "code",
   "execution_count": 6,
   "id": "b9e30bca-d934-4b02-b945-f85ce2e4c66f",
   "metadata": {},
   "outputs": [
    {
     "name": "stdout",
     "output_type": "stream",
     "text": [
      "List of documents\n",
      "{'source': 'data\\\\business\\\\cloudsync_impact.md', 'doc_type': 'business'}\n",
      "{'source': 'data\\\\business\\\\dataviz_impact.md', 'doc_type': 'business'}\n",
      "{'source': 'data\\\\business\\\\fraud_detection_impact.md', 'doc_type': 'business'}\n",
      "{'source': 'data\\\\business\\\\healthtrack_impact.md', 'doc_type': 'business'}\n",
      "{'source': 'data\\\\business\\\\microservices_impact.md', 'doc_type': 'business'}\n",
      "{'source': 'data\\\\developers\\\\alex_chen.md', 'doc_type': 'developers'}\n",
      "{'source': 'data\\\\developers\\\\john_smith.md', 'doc_type': 'developers'}\n",
      "{'source': 'data\\\\developers\\\\raj_patel.md', 'doc_type': 'developers'}\n",
      "{'source': 'data\\\\developers\\\\sarah_johnson.md', 'doc_type': 'developers'}\n",
      "{'source': 'data\\\\projects\\\\cloudsync.md', 'doc_type': 'projects'}\n",
      "{'source': 'data\\\\projects\\\\dataviz.md', 'doc_type': 'projects'}\n",
      "{'source': 'data\\\\projects\\\\fraud_detection.md', 'doc_type': 'projects'}\n",
      "{'source': 'data\\\\projects\\\\healthtrack.md', 'doc_type': 'projects'}\n",
      "{'source': 'data\\\\projects\\\\microservices.md', 'doc_type': 'projects'}\n"
     ]
    }
   ],
   "source": [
    "# split the documents into chunks, the chunk size and amount of overlaps between the chunks can have\n",
    "# impact on the results\n",
    "text_splitter = CharacterTextSplitter(chunk_size=2000, chunk_overlap= 200)\n",
    "chunks = text_splitter.split_documents(documents)\n",
    "\n",
    "print('List of documents')\n",
    "for chunk in chunks:\n",
    "    print(chunk.metadata)"
   ]
  },
  {
   "cell_type": "markdown",
   "id": "1c6ae560",
   "metadata": {},
   "source": [
    "### Direct Azure OpenAI usage for embedding"
   ]
  },
  {
   "cell_type": "code",
   "execution_count": 7,
   "id": "f5c179b1-bacf-4250-b880-9aaa8231680f",
   "metadata": {},
   "outputs": [
    {
     "name": "stdout",
     "output_type": "stream",
     "text": [
      "data[0]: length=3072, [0.022330209612846375, -0.002088305074721575, ..., -0.014379994943737984, 0.006100048776715994]\n",
      "data[1]: length=3072, [0.011640272103250027, 0.005252661183476448, ..., -0.028720801696181297, -0.0025770869106054306]\n",
      "data[2]: length=3072, [0.016326788812875748, -0.0018455119570717216, ..., -0.005349587649106979, 0.006049444433301687]\n",
      "Usage(prompt_tokens=6, total_tokens=6)\n"
     ]
    }
   ],
   "source": [
    "from openai import AzureOpenAI\n",
    "\n",
    "embed_model = AzureOpenAI(\n",
    "    api_version=\"2024-12-01-preview\",\n",
    "    azure_endpoint=azure_embed_endpoint,\n",
    "    api_key=azure_embed_api_key\n",
    ")\n",
    "\n",
    "deployment = \"text-embedding-3-large\"\n",
    "response = embed_model.embeddings.create(\n",
    "    input=[\"first phrase\",\"second phrase\",\"third phrase\"],\n",
    "    model=deployment\n",
    ")\n",
    "\n",
    "for item in response.data:\n",
    "    length = len(item.embedding)\n",
    "    print(\n",
    "        f\"data[{item.index}]: length={length}, \"\n",
    "        f\"[{item.embedding[0]}, {item.embedding[1]}, \"\n",
    "        f\"..., {item.embedding[length-2]}, {item.embedding[length-1]}]\"\n",
    "    )\n",
    "print(response.usage)"
   ]
  },
  {
   "cell_type": "markdown",
   "id": "7a13b923",
   "metadata": {},
   "source": [
    "### Embeddings using LangChain"
   ]
  },
  {
   "cell_type": "code",
   "execution_count": 51,
   "id": "f6ab94ba-79fd-47a7-8f57-8c19a4d719f3",
   "metadata": {},
   "outputs": [],
   "source": [
    "def initialize_llm(env_file: str = None):\n",
    "    llm = AzureChatOpenAI(\n",
    "        azure_endpoint=azure_oai_endpoint,\n",
    "        azure_deployment=\"gpt-4o-mini\",\n",
    "        openai_api_version=\"2025-01-01-preview\",\n",
    "    )\n",
    "\n",
    "    embed_model_name = \"text-embedding-3-large\"\n",
    "    embed_api_version = \"2024-12-01-preview\" #\"2024-02-01\"\n",
    "    azure_embed_endpoint = os.environ['AZURE_EMBED_ENDPOINT']\n",
    "\n",
    "    embeddings = AzureOpenAIEmbeddings(\n",
    "        model=embed_model_name,\n",
    "        azure_deployment=embed_model_name,\n",
    "        azure_endpoint=azure_embed_endpoint,\n",
    "        openai_api_version=embed_api_version,\n",
    "        api_key=azure_embed_api_key)\n",
    "    \n",
    "    return llm, embeddings\n",
    "\n",
    "llm, azure_embeddings = initialize_llm()"
   ]
  },
  {
   "cell_type": "code",
   "execution_count": null,
   "id": "98f548f1-2cee-425d-a0f8-1b79a9caafae",
   "metadata": {
    "editable": true,
    "slideshow": {
     "slide_type": ""
    },
    "tags": []
   },
   "outputs": [
    {
     "name": "stdout",
     "output_type": "stream",
     "text": [
      "Chroma db path notebooks\\vector_store\\chroma_rag_db\n",
      "db cleared\n",
      "Vectorstore created with 14 documents\n"
     ]
    }
   ],
   "source": [
    "CHROMA_DB = os.path.join(\"notebooks\", \"vector_store\", \"chroma_rag_db\")\n",
    "print(\"Chroma db path\", CHROMA_DB)\n",
    "      \n",
    "# clear the db\n",
    "if os.path.exists(CHROMA_DB):\n",
    "    Chroma(persist_directory=CHROMA_DB, embedding_function=azure_embeddings).delete_collection()\n",
    "    print('db cleared')\n",
    "\n",
    "# vectorize the docs\n",
    "vectorstore = Chroma.from_documents(documents=chunks,\n",
    "                                    embedding=azure_embeddings,\n",
    "                                    persist_directory=CHROMA_DB)\n",
    "print(f\"Vectorstore created with {vectorstore._collection.count()} documents\")\n"
   ]
  },
  {
   "cell_type": "code",
   "execution_count": 31,
   "id": "27655178",
   "metadata": {},
   "outputs": [
    {
     "name": "stdout",
     "output_type": "stream",
     "text": [
      "{'ids': ['0233e4dd-4ab5-4fcd-b616-9ec75396a7ce'], 'embeddings': array([[ 0.00643417, -0.01768304, -0.01689518, ..., -0.01734747,\n",
      "        -0.00097479, -0.01140935]], shape=(1, 3072)), 'documents': None, 'uris': None, 'data': None, 'metadatas': None, 'included': [<IncludeEnum.embeddings: 'embeddings'>]}\n",
      "Dimensions:  3072\n"
     ]
    }
   ],
   "source": [
    "# Inspect the vectorstore\n",
    "collection = vectorstore._collection\n",
    "sample_vector_embed = collection.get(limit=1, include=['embeddings'])\n",
    "print(sample_vector_embed)\n",
    "print('Dimensions: ', len(sample_vector_embed['embeddings'][0]))"
   ]
  },
  {
   "cell_type": "markdown",
   "id": "efd3a989",
   "metadata": {},
   "source": [
    "### Visualizing Vectors"
   ]
  },
  {
   "cell_type": "code",
   "execution_count": 45,
   "id": "a530f12b",
   "metadata": {},
   "outputs": [
    {
     "name": "stdout",
     "output_type": "stream",
     "text": [
      "Embedding shape (14, 3072)\n"
     ]
    }
   ],
   "source": [
    "result = collection.get(include=['embeddings', 'documents', 'metadatas'])\n",
    "vectors = np.array(result['embeddings'])\n",
    "\n",
    "print('Embedding shape', vectors.shape)\n",
    "documents = result['documents']\n",
    "doc_types = [metadata['doc_type'] for metadata in result['metadatas']]\n",
    "\n",
    "colors_list = ['red', 'blue', 'green', 'orange', 'purple', 'pink', 'brown', 'gray']\n",
    "doc_color_mapping = {}\n",
    "# len(set(doc_types) < len(colors_list), so it wont crash\n",
    "for i, doc_type in enumerate(set(doc_types)):\n",
    "    doc_color_mapping[doc_type] = colors_list[i]\n",
    "\n",
    "colors = [doc_color_mapping[doc_type] for doc_type in doc_types]"
   ]
  },
  {
   "cell_type": "code",
   "execution_count": 49,
   "id": "365089a7",
   "metadata": {},
   "outputs": [
    {
     "data": {
      "application/vnd.plotly.v1+json": {
       "config": {
        "plotlyServerURL": "https://plot.ly"
       },
       "data": [
        {
         "hoverinfo": "text",
         "marker": {
          "color": [
           "green",
           "green",
           "green",
           "green",
           "green",
           "red",
           "red",
           "red",
           "red",
           "blue",
           "blue",
           "blue",
           "blue",
           "blue"
          ],
          "size": 5
         },
         "mode": "markers",
         "text": [
          "Type: business<br>Text: # Business Impact: CloudSync\n\n## Executive Summary\nCloudSync has transformed internal collaboration ...",
          "Type: business<br>Text: # Business Impact: DataViz\n\n## Executive Summary\nDataViz has revolutionized how our enterprise clien...",
          "Type: business<br>Text: # Business Impact: FraudDetection\n\n## Executive Summary\nThe FraudDetection system has delivered exce...",
          "Type: business<br>Text: # Business Impact: HealthTrack\n\n## Executive Summary\nHealthTrack has established itself as a leading...",
          "Type: business<br>Text: # Business Impact: MicroServices Migration\n\n## Executive Summary\nThe MicroServices Migration initiat...",
          "Type: developers<br>Text: # Developer Profile: Alex Chen\n\n## Personal Information\n- **Name**: Alex Chen\n- **Position**: Data S...",
          "Type: developers<br>Text: # Developer Profile: John Smith\n\n## Personal Information\n- **Name**: John Smith\n- **Position**: Seni...",
          "Type: developers<br>Text: # Developer Profile: Raj Patel\n\n## Personal Information\n- **Name**: Raj Patel\n- **Position**: DevOps...",
          "Type: developers<br>Text: # Developer Profile: Sarah Johnson\n\n## Personal Information\n- **Name**: Sarah Johnson\n- **Position**...",
          "Type: projects<br>Text: # Project: CloudSync\n\n## Overview\nCloudSync is a cloud-based file synchronization and sharing platfo...",
          "Type: projects<br>Text: # Project: DataViz\n\n## Overview\nDataViz is an enterprise data visualization and analytics platform t...",
          "Type: projects<br>Text: # Project: FraudDetection\n\n## Overview\nFraudDetection is an AI-powered system that identifies and pr...",
          "Type: projects<br>Text: # Project: HealthTrack\n\n## Overview\nHealthTrack is a mobile and web application for personal health ...",
          "Type: projects<br>Text: # Project: MicroServices Migration\n\n## Overview\nA strategic initiative to decompose the company's mo..."
         ],
         "type": "scatter",
         "x": {
          "bdata": "icAJQpkQaMFM4gnCkBhgwgwiUkEQyfHBTLMLQeRtBkFqkTBCr8JDQjcUg8CgxJDC5CFbwvpIS0I=",
          "dtype": "f4"
         },
         "y": {
          "bdata": "9kKuQYBNrkGEIH5CayafQDnAh0Iw5L/CqAyZwtim8cKeU63CjiNswbyVj8FVz2RCJjoIwnL3i0I=",
          "dtype": "f4"
         }
        }
       ],
       "layout": {
        "height": 600,
        "margin": {
         "b": 10,
         "l": 10,
         "r": 20,
         "t": 40
        },
        "scene": {
         "xaxis": {
          "title": {
           "text": "x"
          }
         },
         "yaxis": {
          "title": {
           "text": "y"
          }
         }
        },
        "template": {
         "data": {
          "bar": [
           {
            "error_x": {
             "color": "#2a3f5f"
            },
            "error_y": {
             "color": "#2a3f5f"
            },
            "marker": {
             "line": {
              "color": "#E5ECF6",
              "width": 0.5
             },
             "pattern": {
              "fillmode": "overlay",
              "size": 10,
              "solidity": 0.2
             }
            },
            "type": "bar"
           }
          ],
          "barpolar": [
           {
            "marker": {
             "line": {
              "color": "#E5ECF6",
              "width": 0.5
             },
             "pattern": {
              "fillmode": "overlay",
              "size": 10,
              "solidity": 0.2
             }
            },
            "type": "barpolar"
           }
          ],
          "carpet": [
           {
            "aaxis": {
             "endlinecolor": "#2a3f5f",
             "gridcolor": "white",
             "linecolor": "white",
             "minorgridcolor": "white",
             "startlinecolor": "#2a3f5f"
            },
            "baxis": {
             "endlinecolor": "#2a3f5f",
             "gridcolor": "white",
             "linecolor": "white",
             "minorgridcolor": "white",
             "startlinecolor": "#2a3f5f"
            },
            "type": "carpet"
           }
          ],
          "choropleth": [
           {
            "colorbar": {
             "outlinewidth": 0,
             "ticks": ""
            },
            "type": "choropleth"
           }
          ],
          "contour": [
           {
            "colorbar": {
             "outlinewidth": 0,
             "ticks": ""
            },
            "colorscale": [
             [
              0,
              "#0d0887"
             ],
             [
              0.1111111111111111,
              "#46039f"
             ],
             [
              0.2222222222222222,
              "#7201a8"
             ],
             [
              0.3333333333333333,
              "#9c179e"
             ],
             [
              0.4444444444444444,
              "#bd3786"
             ],
             [
              0.5555555555555556,
              "#d8576b"
             ],
             [
              0.6666666666666666,
              "#ed7953"
             ],
             [
              0.7777777777777778,
              "#fb9f3a"
             ],
             [
              0.8888888888888888,
              "#fdca26"
             ],
             [
              1,
              "#f0f921"
             ]
            ],
            "type": "contour"
           }
          ],
          "contourcarpet": [
           {
            "colorbar": {
             "outlinewidth": 0,
             "ticks": ""
            },
            "type": "contourcarpet"
           }
          ],
          "heatmap": [
           {
            "colorbar": {
             "outlinewidth": 0,
             "ticks": ""
            },
            "colorscale": [
             [
              0,
              "#0d0887"
             ],
             [
              0.1111111111111111,
              "#46039f"
             ],
             [
              0.2222222222222222,
              "#7201a8"
             ],
             [
              0.3333333333333333,
              "#9c179e"
             ],
             [
              0.4444444444444444,
              "#bd3786"
             ],
             [
              0.5555555555555556,
              "#d8576b"
             ],
             [
              0.6666666666666666,
              "#ed7953"
             ],
             [
              0.7777777777777778,
              "#fb9f3a"
             ],
             [
              0.8888888888888888,
              "#fdca26"
             ],
             [
              1,
              "#f0f921"
             ]
            ],
            "type": "heatmap"
           }
          ],
          "histogram": [
           {
            "marker": {
             "pattern": {
              "fillmode": "overlay",
              "size": 10,
              "solidity": 0.2
             }
            },
            "type": "histogram"
           }
          ],
          "histogram2d": [
           {
            "colorbar": {
             "outlinewidth": 0,
             "ticks": ""
            },
            "colorscale": [
             [
              0,
              "#0d0887"
             ],
             [
              0.1111111111111111,
              "#46039f"
             ],
             [
              0.2222222222222222,
              "#7201a8"
             ],
             [
              0.3333333333333333,
              "#9c179e"
             ],
             [
              0.4444444444444444,
              "#bd3786"
             ],
             [
              0.5555555555555556,
              "#d8576b"
             ],
             [
              0.6666666666666666,
              "#ed7953"
             ],
             [
              0.7777777777777778,
              "#fb9f3a"
             ],
             [
              0.8888888888888888,
              "#fdca26"
             ],
             [
              1,
              "#f0f921"
             ]
            ],
            "type": "histogram2d"
           }
          ],
          "histogram2dcontour": [
           {
            "colorbar": {
             "outlinewidth": 0,
             "ticks": ""
            },
            "colorscale": [
             [
              0,
              "#0d0887"
             ],
             [
              0.1111111111111111,
              "#46039f"
             ],
             [
              0.2222222222222222,
              "#7201a8"
             ],
             [
              0.3333333333333333,
              "#9c179e"
             ],
             [
              0.4444444444444444,
              "#bd3786"
             ],
             [
              0.5555555555555556,
              "#d8576b"
             ],
             [
              0.6666666666666666,
              "#ed7953"
             ],
             [
              0.7777777777777778,
              "#fb9f3a"
             ],
             [
              0.8888888888888888,
              "#fdca26"
             ],
             [
              1,
              "#f0f921"
             ]
            ],
            "type": "histogram2dcontour"
           }
          ],
          "mesh3d": [
           {
            "colorbar": {
             "outlinewidth": 0,
             "ticks": ""
            },
            "type": "mesh3d"
           }
          ],
          "parcoords": [
           {
            "line": {
             "colorbar": {
              "outlinewidth": 0,
              "ticks": ""
             }
            },
            "type": "parcoords"
           }
          ],
          "pie": [
           {
            "automargin": true,
            "type": "pie"
           }
          ],
          "scatter": [
           {
            "fillpattern": {
             "fillmode": "overlay",
             "size": 10,
             "solidity": 0.2
            },
            "type": "scatter"
           }
          ],
          "scatter3d": [
           {
            "line": {
             "colorbar": {
              "outlinewidth": 0,
              "ticks": ""
             }
            },
            "marker": {
             "colorbar": {
              "outlinewidth": 0,
              "ticks": ""
             }
            },
            "type": "scatter3d"
           }
          ],
          "scattercarpet": [
           {
            "marker": {
             "colorbar": {
              "outlinewidth": 0,
              "ticks": ""
             }
            },
            "type": "scattercarpet"
           }
          ],
          "scattergeo": [
           {
            "marker": {
             "colorbar": {
              "outlinewidth": 0,
              "ticks": ""
             }
            },
            "type": "scattergeo"
           }
          ],
          "scattergl": [
           {
            "marker": {
             "colorbar": {
              "outlinewidth": 0,
              "ticks": ""
             }
            },
            "type": "scattergl"
           }
          ],
          "scattermap": [
           {
            "marker": {
             "colorbar": {
              "outlinewidth": 0,
              "ticks": ""
             }
            },
            "type": "scattermap"
           }
          ],
          "scattermapbox": [
           {
            "marker": {
             "colorbar": {
              "outlinewidth": 0,
              "ticks": ""
             }
            },
            "type": "scattermapbox"
           }
          ],
          "scatterpolar": [
           {
            "marker": {
             "colorbar": {
              "outlinewidth": 0,
              "ticks": ""
             }
            },
            "type": "scatterpolar"
           }
          ],
          "scatterpolargl": [
           {
            "marker": {
             "colorbar": {
              "outlinewidth": 0,
              "ticks": ""
             }
            },
            "type": "scatterpolargl"
           }
          ],
          "scatterternary": [
           {
            "marker": {
             "colorbar": {
              "outlinewidth": 0,
              "ticks": ""
             }
            },
            "type": "scatterternary"
           }
          ],
          "surface": [
           {
            "colorbar": {
             "outlinewidth": 0,
             "ticks": ""
            },
            "colorscale": [
             [
              0,
              "#0d0887"
             ],
             [
              0.1111111111111111,
              "#46039f"
             ],
             [
              0.2222222222222222,
              "#7201a8"
             ],
             [
              0.3333333333333333,
              "#9c179e"
             ],
             [
              0.4444444444444444,
              "#bd3786"
             ],
             [
              0.5555555555555556,
              "#d8576b"
             ],
             [
              0.6666666666666666,
              "#ed7953"
             ],
             [
              0.7777777777777778,
              "#fb9f3a"
             ],
             [
              0.8888888888888888,
              "#fdca26"
             ],
             [
              1,
              "#f0f921"
             ]
            ],
            "type": "surface"
           }
          ],
          "table": [
           {
            "cells": {
             "fill": {
              "color": "#EBF0F8"
             },
             "line": {
              "color": "white"
             }
            },
            "header": {
             "fill": {
              "color": "#C8D4E3"
             },
             "line": {
              "color": "white"
             }
            },
            "type": "table"
           }
          ]
         },
         "layout": {
          "annotationdefaults": {
           "arrowcolor": "#2a3f5f",
           "arrowhead": 0,
           "arrowwidth": 1
          },
          "autotypenumbers": "strict",
          "coloraxis": {
           "colorbar": {
            "outlinewidth": 0,
            "ticks": ""
           }
          },
          "colorscale": {
           "diverging": [
            [
             0,
             "#8e0152"
            ],
            [
             0.1,
             "#c51b7d"
            ],
            [
             0.2,
             "#de77ae"
            ],
            [
             0.3,
             "#f1b6da"
            ],
            [
             0.4,
             "#fde0ef"
            ],
            [
             0.5,
             "#f7f7f7"
            ],
            [
             0.6,
             "#e6f5d0"
            ],
            [
             0.7,
             "#b8e186"
            ],
            [
             0.8,
             "#7fbc41"
            ],
            [
             0.9,
             "#4d9221"
            ],
            [
             1,
             "#276419"
            ]
           ],
           "sequential": [
            [
             0,
             "#0d0887"
            ],
            [
             0.1111111111111111,
             "#46039f"
            ],
            [
             0.2222222222222222,
             "#7201a8"
            ],
            [
             0.3333333333333333,
             "#9c179e"
            ],
            [
             0.4444444444444444,
             "#bd3786"
            ],
            [
             0.5555555555555556,
             "#d8576b"
            ],
            [
             0.6666666666666666,
             "#ed7953"
            ],
            [
             0.7777777777777778,
             "#fb9f3a"
            ],
            [
             0.8888888888888888,
             "#fdca26"
            ],
            [
             1,
             "#f0f921"
            ]
           ],
           "sequentialminus": [
            [
             0,
             "#0d0887"
            ],
            [
             0.1111111111111111,
             "#46039f"
            ],
            [
             0.2222222222222222,
             "#7201a8"
            ],
            [
             0.3333333333333333,
             "#9c179e"
            ],
            [
             0.4444444444444444,
             "#bd3786"
            ],
            [
             0.5555555555555556,
             "#d8576b"
            ],
            [
             0.6666666666666666,
             "#ed7953"
            ],
            [
             0.7777777777777778,
             "#fb9f3a"
            ],
            [
             0.8888888888888888,
             "#fdca26"
            ],
            [
             1,
             "#f0f921"
            ]
           ]
          },
          "colorway": [
           "#636efa",
           "#EF553B",
           "#00cc96",
           "#ab63fa",
           "#FFA15A",
           "#19d3f3",
           "#FF6692",
           "#B6E880",
           "#FF97FF",
           "#FECB52"
          ],
          "font": {
           "color": "#2a3f5f"
          },
          "geo": {
           "bgcolor": "white",
           "lakecolor": "white",
           "landcolor": "#E5ECF6",
           "showlakes": true,
           "showland": true,
           "subunitcolor": "white"
          },
          "hoverlabel": {
           "align": "left"
          },
          "hovermode": "closest",
          "mapbox": {
           "style": "light"
          },
          "paper_bgcolor": "white",
          "plot_bgcolor": "#E5ECF6",
          "polar": {
           "angularaxis": {
            "gridcolor": "white",
            "linecolor": "white",
            "ticks": ""
           },
           "bgcolor": "#E5ECF6",
           "radialaxis": {
            "gridcolor": "white",
            "linecolor": "white",
            "ticks": ""
           }
          },
          "scene": {
           "xaxis": {
            "backgroundcolor": "#E5ECF6",
            "gridcolor": "white",
            "gridwidth": 2,
            "linecolor": "white",
            "showbackground": true,
            "ticks": "",
            "zerolinecolor": "white"
           },
           "yaxis": {
            "backgroundcolor": "#E5ECF6",
            "gridcolor": "white",
            "gridwidth": 2,
            "linecolor": "white",
            "showbackground": true,
            "ticks": "",
            "zerolinecolor": "white"
           },
           "zaxis": {
            "backgroundcolor": "#E5ECF6",
            "gridcolor": "white",
            "gridwidth": 2,
            "linecolor": "white",
            "showbackground": true,
            "ticks": "",
            "zerolinecolor": "white"
           }
          },
          "shapedefaults": {
           "line": {
            "color": "#2a3f5f"
           }
          },
          "ternary": {
           "aaxis": {
            "gridcolor": "white",
            "linecolor": "white",
            "ticks": ""
           },
           "baxis": {
            "gridcolor": "white",
            "linecolor": "white",
            "ticks": ""
           },
           "bgcolor": "#E5ECF6",
           "caxis": {
            "gridcolor": "white",
            "linecolor": "white",
            "ticks": ""
           }
          },
          "title": {
           "x": 0.05
          },
          "xaxis": {
           "automargin": true,
           "gridcolor": "white",
           "linecolor": "white",
           "ticks": "",
           "title": {
            "standoff": 15
           },
           "zerolinecolor": "white",
           "zerolinewidth": 2
          },
          "yaxis": {
           "automargin": true,
           "gridcolor": "white",
           "linecolor": "white",
           "ticks": "",
           "title": {
            "standoff": 15
           },
           "zerolinecolor": "white",
           "zerolinewidth": 2
          }
         }
        },
        "title": {
         "text": "2D Chroma Vector Store Visualization"
        },
        "width": 800
       }
      }
     },
     "metadata": {},
     "output_type": "display_data"
    }
   ],
   "source": [
    "tsne = TSNE(n_components=2, random_state=42, perplexity=10)\n",
    "reduced_vectors = tsne.fit_transform(vectors)\n",
    "\n",
    "fig = go.Figure(\n",
    "    data=[go.Scatter(\n",
    "        x=reduced_vectors[:, 0],\n",
    "        y=reduced_vectors[:, 1],\n",
    "        mode='markers',\n",
    "        marker=dict(size=5, color=colors),\n",
    "        text=[f\"Type: {t}<br>Text: {d[:100]}...\" for t, d in zip(doc_types, documents)],\n",
    "        hoverinfo='text'\n",
    "    )]\n",
    ")\n",
    "\n",
    "fig.update_layout(\n",
    "    title='2D Chroma Vector Store Visualization',\n",
    "    scene=dict(xaxis_title='x',yaxis_title='y'),\n",
    "    width=800,\n",
    "    height=600,\n",
    "    margin=dict(r=20, b=10, l=10, t=40)\n",
    ")\n",
    "\n",
    "fig.show()"
   ]
  },
  {
   "cell_type": "markdown",
   "id": "c7b934b5",
   "metadata": {},
   "source": [
    "### Putting together: RAG using LangChain"
   ]
  },
  {
   "cell_type": "code",
   "execution_count": 52,
   "id": "bbb43384",
   "metadata": {},
   "outputs": [
    {
     "name": "stderr",
     "output_type": "stream",
     "text": [
      "C:\\Users\\SeekerG\\AppData\\Local\\Temp\\ipykernel_14332\\167896186.py:4: LangChainDeprecationWarning:\n",
      "\n",
      "Please see the migration guide at: https://python.langchain.com/docs/versions/migrating_memory/\n",
      "\n"
     ]
    }
   ],
   "source": [
    "# 1. LLM: We already declared the LLM above\n",
    "\n",
    "# 2. memory: This tracks the conversation history\n",
    "memory = ConversationBufferMemory(memory_key=\"chat_history\", return_messages=True)\n",
    "\n",
    "# 3. Retriever: This retrieves the context related documents from the vector store\n",
    "retriever = vectorstore.as_retriever()\n",
    "\n",
    "# 4. Chain: This combines the LLM, memory and retriever into a single chain\n",
    "rag_chain = ConversationalRetrievalChain.from_llm(llm=llm, memory=memory, retriever=retriever)"
   ]
  },
  {
   "cell_type": "code",
   "execution_count": 53,
   "id": "995a0dcb",
   "metadata": {},
   "outputs": [
    {
     "name": "stdout",
     "output_type": "stream",
     "text": [
      "Question: What's the best project in terms of revenue?\n",
      "Answer: The project with the best revenue is DataViz, which has an annual recurring revenue of $7.2 million.\n"
     ]
    }
   ],
   "source": [
    "query = \"What's the best project in terms of revenue?\"\n",
    "result = rag_chain.invoke({\"question\": query})\n",
    "print('Question:', query)\n",
    "print('Answer:', result['answer'])"
   ]
  },
  {
   "cell_type": "code",
   "execution_count": null,
   "id": "a827febd",
   "metadata": {},
   "outputs": [],
   "source": []
  }
 ],
 "metadata": {
  "kernelspec": {
   "display_name": ".venv",
   "language": "python",
   "name": "python3"
  },
  "language_info": {
   "codemirror_mode": {
    "name": "ipython",
    "version": 3
   },
   "file_extension": ".py",
   "mimetype": "text/x-python",
   "name": "python",
   "nbconvert_exporter": "python",
   "pygments_lexer": "ipython3",
   "version": "3.11.9"
  }
 },
 "nbformat": 4,
 "nbformat_minor": 5
}
